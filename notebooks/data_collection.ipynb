{
 "cells": [
  {
   "cell_type": "code",
   "execution_count": 2,
   "id": "6d8aafbf-4e6b-4ad8-a257-9ef320b226b3",
   "metadata": {},
   "outputs": [],
   "source": [
    "import pandas as pd\n",
    "pd.set_option('display.max_columns', None)\n",
    "import numpy as np\n",
    "import os\n",
    "from pybaseball import statcast, playerid_lookup, statcast_pitcher\n",
    "from datetime import date"
   ]
  },
  {
   "cell_type": "code",
   "execution_count": 3,
   "id": "25a83147-dd02-4eaf-b2d2-728c41eb10fc",
   "metadata": {},
   "outputs": [
    {
     "name": "stdout",
     "output_type": "stream",
     "text": [
      "Data folder created at: C:\\Users\\lenov\\OneDrive\\Bureau\\mlops_interpretability\\data\n"
     ]
    }
   ],
   "source": [
    "# chemin courant : notebooks\n",
    "current_folder = os.getcwd()  \n",
    "\n",
    "# dossier parent\n",
    "parent_folder = os.path.dirname(current_folder)\n",
    "\n",
    "# chemin complet vers mlops_interpretability/data\n",
    "data_folder = os.path.join(parent_folder, \"data\")\n",
    "\n",
    "# créer le dossier si inexistant\n",
    "os.makedirs(data_folder, exist_ok=True)\n",
    "\n",
    "print(f\"Data folder created at: {data_folder}\")\n",
    "\n"
   ]
  },
  {
   "cell_type": "code",
   "execution_count": 4,
   "id": "c4742665-1d61-414f-87b7-58fc6bae55fd",
   "metadata": {},
   "outputs": [
    {
     "name": "stdout",
     "output_type": "stream",
     "text": [
      "Gathering player lookup table. This may take a moment.\n",
      "Fetching data for Gerrit Cole...\n",
      "Gathering Player Data\n",
      "Fetching data for Carlos Rodón...\n",
      "Gathering Player Data\n",
      "Fetching data for Max Fried...\n",
      "Gathering Player Data\n",
      "Fetching data for José Berríos...\n",
      "Gathering Player Data\n",
      "Fetching data for Chris Bassitt...\n",
      "Gathering Player Data\n",
      "Fetching data for Trey Yesavage...\n",
      "Gathering Player Data\n",
      "Fetching data for Luis Castillo...\n",
      "Gathering Player Data\n",
      "Fetching data for Logan Gilbert...\n",
      "Gathering Player Data\n",
      "Fetching data for Bryan Woo...\n",
      "Gathering Player Data\n",
      "Fetching data for Tarik Skubal...\n",
      "Gathering Player Data\n",
      "Fetching data for Eduardo Rodríguez...\n",
      "Gathering Player Data\n",
      "Fetching data for Matt Manning...\n",
      "Gathering Player Data\n",
      "Gerrit_Cole.csv stored in folder /data\n",
      "Carlos_Rodón.csv stored in folder /data\n",
      "Max_Fried.csv stored in folder /data\n",
      "José_Berríos.csv stored in folder /data\n",
      "Chris_Bassitt.csv stored in folder /data\n",
      "Trey_Yesavage.csv stored in folder /data\n",
      "Luis_Castillo.csv stored in folder /data\n",
      "Logan_Gilbert.csv stored in folder /data\n",
      "Bryan_Woo.csv stored in folder /data\n",
      "Tarik_Skubal.csv stored in folder /data\n",
      "Eduardo_Rodríguez.csv stored in folder /data\n",
      "Matt_Manning.csv stored in folder /data\n"
     ]
    }
   ],
   "source": [
    "pitchers = ['Gerrit Cole', 'Carlos Rodón', 'Max Fried',\n",
    "            'José Berríos', 'Chris Bassitt', 'Trey Yesavage',\n",
    "            'Luis Castillo', 'Logan Gilbert', 'Bryan Woo',\n",
    "            'Tarik Skubal', 'Eduardo Rodríguez', 'Matt Manning']\n",
    "\n",
    "def create_df_by_pitcher(pitchers_names):\n",
    "    key_mlbam = []\n",
    "\n",
    "    for player in pitchers_names:\n",
    "        first_name, last_name = player.split(maxsplit=1)  # gère les noms avec 2 mots\n",
    "        ser_player = playerid_lookup(last_name, first_name)\n",
    "        if ser_player.empty:\n",
    "            print(f\"⚠️ Player {player} not found!\")\n",
    "            key_mlbam.append(None)\n",
    "        else:\n",
    "            key_mlbam.append(ser_player['key_mlbam'].values[0])\n",
    "\n",
    "    starting_date = '2025-03-28'\n",
    "    end_date = '2025-09-29'\n",
    "    \n",
    "    pitcher_dfs = {}\n",
    "    \n",
    "    for i, player_id in enumerate(key_mlbam):\n",
    "        name = pitchers_names[i]\n",
    "        if player_id is None:\n",
    "            print(f\"Skipping {name} because no player ID was found.\")\n",
    "            continue\n",
    "        print(f\"Fetching data for {name}...\")\n",
    "        df = statcast_pitcher(starting_date, end_date, player_id)\n",
    "        pitcher_dfs[name] = df\n",
    "\n",
    "    os.makedirs(\"data\", exist_ok=True)\n",
    "    \n",
    "    for name, df in pitcher_dfs.items():\n",
    "        filename = name.replace(\" \", \"_\") + \".csv\"\n",
    "        filepath = os.path.join(data_folder, filename)\n",
    "        df.to_csv(filepath, index=False)\n",
    "        print(f\"{filename} stored in folder /data\")\n",
    "\n",
    "create_df_by_pitcher(pitchers)"
   ]
  }
 ],
 "metadata": {
  "kernelspec": {
   "display_name": "Python (mlops_interpretability_env)",
   "language": "python",
   "name": "mlops_interpretability_env"
  },
  "language_info": {
   "codemirror_mode": {
    "name": "ipython",
    "version": 3
   },
   "file_extension": ".py",
   "mimetype": "text/x-python",
   "name": "python",
   "nbconvert_exporter": "python",
   "pygments_lexer": "ipython3",
   "version": "3.11.13"
  }
 },
 "nbformat": 4,
 "nbformat_minor": 5
}
